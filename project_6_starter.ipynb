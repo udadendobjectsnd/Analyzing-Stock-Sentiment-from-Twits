{
 "cells": [
  {
   "cell_type": "markdown",
   "metadata": {},
   "source": [
    "# Project 6: Analyzing Stock Sentiment from Twits\n",
    "## Instructions\n",
    "Each problem consists of a function to implement and instructions on how to implement the function.  The parts of the function that need to be implemented are marked with a `# TODO` comment.\n",
    "\n",
    "## Packages\n",
    "When you implement the functions, you'll only need to you use the packages you've used in the classroom, like [Pandas](https://pandas.pydata.org/) and [Numpy](http://www.numpy.org/). These packages will be imported for you. We recommend you don't add any import statements, otherwise the grader might not be able to run your code.\n",
    "\n",
    "### Load Packages"
   ]
  },
  {
   "cell_type": "code",
   "execution_count": 1,
   "metadata": {
    "pycharm": {
     "is_executing": false
    }
   },
   "outputs": [],
   "source": [
    "import json\n",
    "import nltk\n",
    "import os\n",
    "import random\n",
    "import re\n",
    "import torch\n",
    "\n",
    "from torch import nn, optim\n",
    "import torch.nn.functional as F\n",
    "\n",
    "import numpy as np"
   ]
  },
  {
   "cell_type": "markdown",
   "metadata": {},
   "source": [
    "## Introduction\n",
    "When deciding the value of a company, it's important to follow the news. For example, a product recall or natural disaster in a company's product chain. You want to be able to turn this information into a signal. Currently, the best tool for the job is a Neural Network. \n",
    "\n",
    "For this project, you'll use posts from the social media site [StockTwits](https://en.wikipedia.org/wiki/StockTwits). The community on StockTwits is full of investors, traders, and entrepreneurs. Each message posted is called a Twit. This is similar to Twitter's version of a post, called a Tweet. You'll build a model around these twits that generate a sentiment score.\n",
    "\n",
    "We've collected a bunch of twits, then hand labeled the sentiment of each. To capture the degree of sentiment, we'll use a five-point scale: very negative, negative, neutral, positive, very positive. Each twit is labeled -2 to 2 in steps of 1, from very negative to very positive respectively. You'll build a sentiment analysis model that will learn to assign sentiment to twits on its own, using this labeled data.\n",
    "\n",
    "The first thing we should to do, is load the data.\n",
    "\n",
    "## Import Twits \n",
    "### Load Twits Data \n",
    "This JSON file contains a list of objects for each twit in the `'data'` field:\n",
    "\n",
    "```\n",
    "{'data':\n",
    "  {'message_body': 'Neutral twit body text here',\n",
    "   'sentiment': 0},\n",
    "  {'message_body': 'Happy twit body text here',\n",
    "   'sentiment': 1},\n",
    "   ...\n",
    "}\n",
    "```\n",
    "\n",
    "The fields represent the following:\n",
    "\n",
    "* `'message_body'`: The text of the twit.\n",
    "* `'sentiment'`: Sentiment score for the twit, ranges from -2 to 2 in steps of 1, with 0 being neutral.\n",
    "\n",
    "\n",
    "To see what the data look like by printing the first 10 twits from the list. "
   ]
  },
  {
   "cell_type": "code",
   "execution_count": 2,
   "metadata": {
    "pycharm": {
     "is_executing": false
    }
   },
   "outputs": [
    {
     "name": "stdout",
     "text": [
      "[{'message_body': '$FITB great buy at 26.00...ill wait', 'sentiment': 2, 'timestamp': '2018-07-01T00:00:09Z'}, {'message_body': '@StockTwits $MSFT', 'sentiment': 1, 'timestamp': '2018-07-01T00:00:42Z'}, {'message_body': '#STAAnalystAlert for $TDG : Jefferies Maintains with a rating of Hold setting target price at USD 350.00. Our own verdict is Buy  http://www.stocktargetadvisor.com/toprating', 'sentiment': 2, 'timestamp': '2018-07-01T00:01:24Z'}, {'message_body': '$AMD I heard there’s a guy who knows someone who thinks somebody knows something - on StockTwits.', 'sentiment': 1, 'timestamp': '2018-07-01T00:01:47Z'}, {'message_body': '$AMD reveal yourself!', 'sentiment': 0, 'timestamp': '2018-07-01T00:02:13Z'}, {'message_body': '$AAPL Why the drop? I warren Buffet taking out his position?', 'sentiment': 1, 'timestamp': '2018-07-01T00:03:10Z'}, {'message_body': '$BA bears have 1 reason on 06-29 to pay more attention https://dividendbot.com?s=BA', 'sentiment': -2, 'timestamp': '2018-07-01T00:04:09Z'}, {'message_body': '$BAC ok good we&#39;re not dropping in price over the weekend, lol', 'sentiment': 1, 'timestamp': '2018-07-01T00:04:17Z'}, {'message_body': '$AMAT - Daily Chart, we need to get back to above 50.', 'sentiment': 2, 'timestamp': '2018-07-01T00:08:01Z'}, {'message_body': '$GME 3% drop per week after spike... if no news in 3 months, back to 12s... if BO, then bingo... what is the odds?', 'sentiment': -2, 'timestamp': '2018-07-01T00:09:03Z'}]\n"
     ],
     "output_type": "stream"
    }
   ],
   "source": [
    "with open(os.path.join('dir', 'twits.json'), 'r') as f:\n",
    "    twits = json.load(f)\n",
    "\n",
    "print(twits['data'][:10])"
   ]
  },
  {
   "cell_type": "markdown",
   "metadata": {},
   "source": [
    "### Length of Data\n",
    "Now let's look at the number of twits in dataset. Print the number of twits below."
   ]
  },
  {
   "cell_type": "code",
   "execution_count": 3,
   "metadata": {
    "pycharm": {
     "is_executing": false
    }
   },
   "outputs": [
    {
     "data": {
      "text/plain": "1548010"
     },
     "metadata": {},
     "output_type": "execute_result",
     "execution_count": 3
    }
   ],
   "source": [
    "\"\"\"print out the number of twits\"\"\"\n",
    "\n",
    "# TODO Implement \n",
    "\n",
    "len(twits['data'])"
   ]
  },
  {
   "cell_type": "markdown",
   "metadata": {},
   "source": [
    "### Split Message Body and Sentiment Score"
   ]
  },
  {
   "cell_type": "code",
   "execution_count": 4,
   "metadata": {
    "pycharm": {
     "is_executing": false
    }
   },
   "outputs": [],
   "source": [
    "messages = [twit['message_body'] for twit in twits['data']]\n",
    "# Since the sentiment scores are discrete, we'll scale the sentiments to 0 to 4 for use in our network\n",
    "sentiments = [twit['sentiment'] + 2 for twit in twits['data']]"
   ]
  },
  {
   "cell_type": "markdown",
   "metadata": {},
   "source": [
    "## Preprocessing the Data\n",
    "With our data in hand we need to preprocess our text. These twits are collected by filtering on ticker symbols where these are denoted with a leader $ symbol in the twit itself. For example,\n",
    "\n",
    "`{'message_body': 'RT @google Our annual look at the year in Google blogging (and beyond) http://t.co/sptHOAh8 $GOOG',\n",
    " 'sentiment': 0}`\n",
    "\n",
    "The ticker symbols don't provide information on the sentiment, and they are in every twit, so we should remove them. This twit also has the `@google` username, again not providing sentiment information, so we should also remove it. We also see a URL `http://t.co/sptHOAh8`. Let's remove these too.\n",
    "\n",
    "The easiest way to remove specific words or phrases is with regex using the `re` module. You can sub out specific patterns with a space:\n",
    "\n",
    "```python\n",
    "re.sub(pattern, ' ', text)\n",
    "```\n",
    "This will substitute a space with anywhere the pattern matches in the text. Later when we tokenize the text, we'll split appropriately on those spaces."
   ]
  },
  {
   "cell_type": "markdown",
   "metadata": {},
   "source": [
    "### Pre-Processing"
   ]
  },
  {
   "cell_type": "code",
   "execution_count": 5,
   "metadata": {
    "pycharm": {
     "is_executing": false
    }
   },
   "outputs": [
    {
     "name": "stderr",
     "text": [
      "[nltk_data] Error loading wordnet: <urlopen error [WinError 10054]\n",
      "[nltk_data]     远程主机强迫关闭了一个现有的连接。>\n"
     ],
     "output_type": "stream"
    }
   ],
   "source": [
    "nltk.download('wordnet')\n",
    "\n",
    "\n",
    "def preprocess(message):\n",
    "    \"\"\"\n",
    "    This function takes a string as input, then performs these operations: \n",
    "        - lowercase\n",
    "        - remove URLs\n",
    "        - remove ticker symbols \n",
    "        - removes punctuation\n",
    "        - tokenize by splitting the string on whitespace \n",
    "        - removes any single character tokens\n",
    "    \n",
    "    Parameters\n",
    "    ----------\n",
    "        message : The text message to be preprocessed.\n",
    "        \n",
    "    Returns\n",
    "    -------\n",
    "        tokens: The preprocessed text into tokens.\n",
    "    \"\"\" \n",
    "    #TODO: Implement \n",
    "    \n",
    "    # Lowercase the twit message\n",
    "    text = message.lower()\n",
    "    \n",
    "    # Replace URLs with a space in the message\n",
    "    text = re.sub(r'https?:\\/\\/.*[\\r\\n]*',' ',text)\n",
    "    \n",
    "    # Replace ticker symbols with a space. The ticker symbols are any stock symbol that starts with $.\n",
    "    text = re.sub(r'[$][A-Za-z][\\S]*', ' ',text)\n",
    "    \n",
    "    # Replace StockTwits usernames with a space. The usernames are any word that starts with @.\n",
    "    text = re.sub(r'[@][A-Za-z][\\S]*', ' ', text)\n",
    "\n",
    "    # Replace everything not a letter with a space\n",
    "    text = re.sub(r'[\\W_]+', ' ', text)\n",
    "    \n",
    "    # Tokenize by splitting the string on whitespace into a list of words\n",
    "    tokens = text.split()\n",
    "\n",
    "    # Lemmatize words using the WordNetLemmatizer. You can ignore any word that is not longer than one character.\n",
    "    wnl = nltk.stem.WordNetLemmatizer()\n",
    "    tokens = [wnl.lemmatize(token) for token in tokens if len(token) > 1]\n",
    "    \n",
    "    return tokens"
   ]
  },
  {
   "cell_type": "markdown",
   "metadata": {},
   "source": [
    "### Preprocess All the Twits \n",
    "Now we can preprocess each of the twits in our dataset. Apply the function `preprocess` to all the twit messages."
   ]
  },
  {
   "cell_type": "code",
   "execution_count": 6,
   "metadata": {
    "pycharm": {
     "is_executing": false
    }
   },
   "outputs": [],
   "source": [
    "# TODO Implement\n",
    "\n",
    "tokenized = [preprocess(message) for message in messages]"
   ]
  },
  {
   "cell_type": "markdown",
   "metadata": {},
   "source": [
    "### Bag of Words\n",
    "Now with all of our messages tokenized, we want to create a vocabulary and count up how often each word appears in our entire corpus. Use the [`Counter`](https://docs.python.org/3.1/library/collections.html#collections.Counter) function to count up all the tokens."
   ]
  },
  {
   "cell_type": "code",
   "execution_count": 7,
   "metadata": {
    "scrolled": true,
    "pycharm": {
     "is_executing": false
    }
   },
   "outputs": [
    {
     "data": {
      "text/plain": "{'great': 17510,\n 'buy': 75775,\n 'at': 138104,\n '26': 15937,\n '00': 23455,\n 'ill': 878,\n 'wait': 11334,\n 'staanalystalert': 4072,\n 'for': 272802,\n 'jefferies': 1056,\n 'maintains': 902,\n 'with': 68677,\n 'rating': 15423,\n 'of': 210842,\n 'hold': 22114,\n 'setting': 3886,\n 'target': 16406,\n 'price': 37009,\n 'usd': 2897,\n '350': 2566,\n 'our': 12183,\n 'own': 8951,\n 'verdict': 3736,\n 'is': 283819,\n 'heard': 1352,\n 'there': 25577,\n 'guy': 13393,\n 'who': 17836,\n 'know': 19897,\n 'someone': 5186,\n 'think': 24237,\n 'somebody': 1099,\n 'something': 5995,\n 'on': 241362,\n 'stocktwits': 1437,\n 'reveal': 195,\n 'yourself': 1203,\n 'why': 21625,\n 'the': 397746,\n 'drop': 17762,\n 'warren': 1013,\n 'buffet': 1297,\n 'taking': 6406,\n 'out': 56177,\n 'his': 6243,\n 'position': 11742,\n 'bear': 33511,\n 'have': 52737,\n 'reason': 7768,\n '06': 7722,\n '29': 9708,\n 'to': 378468,\n 'pay': 7585,\n 'more': 55210,\n 'attention': 3522,\n 'ok': 4553,\n 'good': 43999,\n 'we': 64544,\n '39': 190583,\n 're': 13157,\n 'not': 68118,\n 'dropping': 2265,\n 'in': 204325,\n 'over': 32625,\n 'weekend': 3555,\n 'lol': 30892,\n 'daily': 13951,\n 'chart': 15963,\n 'need': 21478,\n 'get': 46515,\n 'back': 43021,\n 'above': 17834,\n '50': 31679,\n 'per': 16552,\n 'week': 43813,\n 'after': 34341,\n 'spike': 2202,\n 'if': 58880,\n 'no': 40224,\n 'news': 19574,\n 'month': 16616,\n '12': 22739,\n 'bo': 531,\n 'then': 20943,\n 'bingo': 181,\n 'what': 79050,\n 'odds': 392,\n 'strong': 17180,\n 'short': 86523,\n 'ratio': 7661,\n '17': 21062,\n '2018': 68316,\n '15': 20499,\n 'and': 208140,\n 'float': 4651,\n '42': 5795,\n 'squeezing': 228,\n 'perfect': 1984,\n 'place': 2842,\n 'an': 22457,\n 'option': 20501,\n 'straddle': 2232,\n 'near': 5816,\n 'supporting': 267,\n 'trend': 8020,\n 'start': 8846,\n 'new': 46016,\n 'monday': 7365,\n 'expect': 10351,\n 'volume': 43623,\n 'across': 780,\n 'key': 8432,\n 'company': 22125,\n 'various': 84,\n 'sector': 5033,\n 'breakout': 6602,\n 'strategy': 1600,\n 'current': 6175,\n 'portfolio': 2461,\n 'bull': 27133,\n 'catalyst': 1284,\n 'continuing': 351,\n 'this': 203000,\n 'uptrend': 1688,\n 'pill': 196,\n 'pack': 188,\n 'amazon': 10768,\n 'prime': 1819,\n 'day': 66582,\n 'earnings': 52863,\n 'test': 4020,\n 'break': 17083,\n '1763': 65,\n 'soon': 16123,\n 'ha': 44193,\n 'moved': 3367,\n '21': 17218,\n 'check': 5070,\n 'movement': 2866,\n 'peer': 3176,\n 'mkm': 164,\n 'partner': 1162,\n 'set': 5754,\n '91': 2669,\n 'it': 193088,\n 'too': 18946,\n 'early': 4764,\n 'tell': 4589,\n 'going': 47812,\n 'happen': 4259,\n 'even': 15786,\n 'about': 27487,\n 'raisinf': 1,\n 'output': 107,\n 'still': 35162,\n 'so': 45818,\n 'many': 9437,\n '66': 3868,\n 'financially': 570,\n 'healthy': 1803,\n 'problem': 2745,\n 'meeting': 1000,\n 'obligation': 670,\n 'bullish': 25158,\n 'stock': 74676,\n 'watch': 14618,\n 'setup': 8105,\n 'timeframes': 39,\n 'just': 73077,\n 'high': 28046,\n 'alert': 12201,\n 'next': 46715,\n 'gt': 9302,\n '14': 15904,\n '40': 14656,\n 'breakdown': 1102,\n 'much': 16572,\n 'better': 13746,\n 'than': 29090,\n 'industry': 7775,\n 'average': 9248,\n '71': 3893,\n 'miss': 6969,\n 'these': 14081,\n 'confirms': 411,\n 'you': 94060,\n 'will': 128001,\n 'see': 44234,\n 'violent': 147,\n 'move': 22378,\n 'downward': 831,\n 'my': 51264,\n 'base': 1465,\n 'gap': 9753,\n '200': 11169,\n 'ma': 3329,\n 'cabot': 106,\n 'weekly': 7156,\n 'video': 2781,\n 'quot': 39870,\n 'resilient': 137,\n 'growth': 36073,\n 'when': 30009,\n 'wa': 55204,\n 'kid': 1690,\n 'froend': 1,\n 'told': 3840,\n 'me': 25785,\n 'moon': 2173,\n 'made': 7799,\n 'cheese': 116,\n 'percent': 6276,\n '35': 8978,\n '28': 13932,\n '18': 31369,\n '20': 34003,\n 'rank': 5334,\n '20th': 312,\n 'percentile': 1399,\n 'thank': 4121,\n 'don': 25381,\n 'feel': 5985,\n 'or': 37395,\n 'do': 24538,\n 'well': 16522,\n 'they': 56200,\n 'already': 9646,\n 'during': 2559,\n 'youtube': 593,\n 'interview': 613,\n 'mitch': 62,\n 'couldn': 1252,\n 'remember': 4815,\n 'single': 2164,\n 'movie': 873,\n 'he': 11522,\n 'watched': 339,\n 'all': 59746,\n 'year': 34129,\n 'except': 1129,\n 'star': 2377,\n 'war': 4942,\n 'black': 1207,\n 'panther': 25,\n 'clothes': 114,\n 'downgrade': 4252,\n '38': 5626,\n 'sale': 27029,\n 'interest': 11772,\n '43': 5485,\n 'return': 7071,\n 'equity': 3266,\n '97': 2977,\n 'although': 1868,\n 'market': 53364,\n 'up': 120940,\n 'doing': 5511,\n 'advanced': 991,\n '05': 7120,\n 'a': 46085,\n 'info': 3807,\n 'july': 3089,\n 'be': 89017,\n 'most': 8206,\n '5x': 438,\n 'normal': 1624,\n 'friday': 11146,\n '154': 429,\n '810': 94,\n 'contract': 14245,\n 'call': 67597,\n 'put': 36888,\n '57': 5298,\n 'third': 1591,\n 'design': 607,\n 'win': 5841,\n 'timing': 656,\n 'match': 405,\n 'probably': 5047,\n 'arm': 303,\n 'alcohol': 72,\n 'tobacco': 149,\n 'firearm': 3,\n 'president': 2846,\n 'trump': 11768,\n 'tweet': 1395,\n 'spoke': 172,\n 'king': 1298,\n 'salman': 4,\n 'saudi': 756,\n 'arabia': 149,\n 'explained': 113,\n 'him': 2083,\n 'that': 89234,\n 'because': 7863,\n 'turmoil': 129,\n 'amp': 35504,\n 'today': 76101,\n 'insight': 8185,\n 'intc': 1979,\n 'mama': 154,\n 'said': 9380,\n 'ice': 372,\n 'cream': 115,\n 'finish': 1165,\n 'due': 3685,\n 'dil': 3,\n 'noticed': 365,\n 'last': 37752,\n 'jedi': 175,\n 'stream': 602,\n 'love': 10322,\n 'here': 74908,\n 'go': 52660,\n 'leave': 1292,\n 'view': 5115,\n 'look': 31136,\n '5ema': 8,\n 'held': 2809,\n '20ema': 99,\n 'stochastics': 73,\n 'turning': 1167,\n 'spy': 2129,\n 'qqq': 654,\n 'opposite': 876,\n 'forward': 3409,\n 'pe': 4421,\n '75': 8276,\n 'valuation': 4513,\n 'can': 44157,\n 'described': 346,\n 'cheap': 7809,\n 'saber': 13,\n 'capital': 2884,\n 'presentation': 623,\n 'common': 1427,\n 'denominator': 9,\n 'tencent': 164,\n 'facebook': 8074,\n 'google': 3200,\n 'how': 24388,\n 'one': 27341,\n 'performing': 858,\n 'crude': 482,\n 'petroleum': 249,\n 'natural': 516,\n 'gas': 1490,\n 'pu': 49,\n 'simply': 635,\n 'havent': 214,\n 'lost': 4547,\n 'any': 14282,\n 'brown': 254,\n 'run': 15765,\n 'tech': 9837,\n 'mf': 308,\n 'are': 101203,\n 'educated': 114,\n 'their': 24175,\n 'shit': 6404,\n 'every': 8769,\n 'former': 435,\n 'global': 2500,\n 'manufacturing': 362,\n 'pfizer': 452,\n 'independent': 150,\n 'director': 5452,\n 'nat': 135,\n 'ricciardi': 4,\n 'may': 10911,\n 'safest': 153,\n 'special': 625,\n 'limited': 552,\n 'offer': 1523,\n 'june': 1280,\n '14th': 92,\n '30th': 200,\n 'tradenet': 4,\n 'offering': 643,\n 'discount': 1451,\n 'intro': 49,\n 'program': 1007,\n 'below': 11218,\n '30': 29880,\n 'financials': 986,\n 'summary': 462,\n 'jeff': 685,\n 'gundlach': 41,\n 'sohn': 23,\n 'long': 32369,\n 'thesis': 1002,\n 'energy': 2788,\n 'low': 22980,\n 'peg': 543,\n 'which': 8178,\n 'compensates': 296,\n 'indicates': 1981,\n 'rather': 2366,\n 'pres': 349,\n 'coming': 18878,\n 'seems': 5376,\n 'support': 16868,\n '25': 26749,\n 'under': 8978,\n 'likely': 3641,\n '53': 5436,\n 'bullshit': 872,\n 'worthless': 1025,\n 'mean': 6149,\n 'fucking': 2380,\n 'nothing': 7003,\n 'macau': 279,\n 'usa': 1070,\n 'take': 17599,\n 'let': 26876,\n 'where': 12399,\n 'right': 18732,\n 'now': 57377,\n 'ugly': 1839,\n 'without': 2337,\n 'clear': 2616,\n 'level': 9317,\n 'term': 17556,\n 'bearish': 11428,\n 'll': 13127,\n 'previously': 2033,\n 'mo': 743,\n 'followed': 971,\n 'by': 53743,\n 'end': 15751,\n 'another': 13978,\n 'runup': 188,\n 'dropped': 2953,\n '10': 84800,\n 'smart': 3308,\n 'money': 24808,\n 'betting': 854,\n 'deal': 6707,\n 'update': 20550,\n 'technical': 11296,\n 'bad': 13206,\n 'doe': 11159,\n 'present': 2422,\n 'nice': 16772,\n 'opportunity': 5855,\n 'completely': 1017,\n 'scale': 382,\n 'time': 39231,\n 'gobble': 106,\n 'play': 9215,\n 'aka': 335,\n 'favorite': 866,\n 'them': 11026,\n 'iddy': 1,\n 'bitty': 10,\n 'kiddy': 33,\n 'hand': 3727,\n '77': 3846,\n 'awesome': 1841,\n 'concerned': 540,\n 'eow': 2107,\n 'might': 8741,\n 'wk': 722,\n 'throwback': 59,\n 'u': 13219,\n 'advisor': 220,\n 'upgrade': 6828,\n 'shorties': 808,\n 'dreaming': 232,\n 'depression': 137,\n 'somethin': 27,\n 'loll': 47,\n 'updated': 811,\n 'hormel': 115,\n 'food': 1478,\n 'dividend': 8408,\n 'analysis': 3368,\n 'consumer': 1979,\n 'defensive': 282,\n 'intel': 7875,\n 'profitability': 1887,\n 'safety': 1125,\n 'score': 2651,\n 'technology': 3106,\n 'both': 6219,\n 'positive': 9014,\n 'looking': 17875,\n 'mad': 1239,\n 'report': 55238,\n 'block': 9915,\n 'person': 698,\n 'spam': 271,\n 'should': 23971,\n 'open': 20671,\n '400': 4180,\n 'projection': 279,\n 'thats': 2243,\n 'true': 2119,\n 'prefer': 361,\n 'from': 62074,\n 'turd': 1079,\n '89': 3001,\n 'wal': 125,\n 'mart': 147,\n 'aristocrat': 302,\n 'valueinvesting': 53,\n 'dvb': 22,\n 'aaamp': 27,\n 'marriage': 37,\n '2m': 1232,\n 'bank': 7527,\n 'account': 2792,\n 'dm': 56,\n '60': 11292,\n '52': 10456,\n 'won': 5411,\n 'stop': 12759,\n 'posting': 1286,\n 'holding': 14784,\n 'big': 27563,\n 'calm': 906,\n 'down': 68901,\n 'luck': 3406,\n 'chase': 1360,\n 'continues': 2435,\n 'hopefully': 2614,\n 'catch': 1746,\n 'before': 25786,\n 'lisa': 3070,\n 'announces': 3372,\n '3rd': 1201,\n 'permamently': 1,\n 'turned': 1356,\n 'off': 21218,\n 'trading': 20775,\n 'maybe': 7798,\n 'altogether': 25,\n 'manipulation': 2479,\n 'very': 19967,\n 'rich': 1595,\n 'make': 19891,\n 'poor': 1884,\n 'fuk': 226,\n 'almost': 5573,\n 'pct': 709,\n 'buyback': 5096,\n 'got': 16182,\n '4993': 1,\n 'share': 48596,\n 'though': 4110,\n 'drip': 323,\n '11': 28927,\n '017': 25,\n '81': 3353,\n '19': 20872,\n 'dumped': 1063,\n 'obv': 180,\n 'but': 53394,\n 'jeez': 339,\n 'bit': 4435,\n 'done': 5469,\n 'bounce': 11606,\n 'heikin': 10,\n 'ashi': 12,\n 'candle': 3263,\n 'confirmation': 737,\n 'liking': 418,\n 'wife': 650,\n 'tree': 513,\n 'fiddy': 32,\n 'sure': 8275,\n 'piggy': 270,\n 'lot': 9996,\n 'coin': 405,\n 'spend': 801,\n 'candy': 113,\n '23': 13220,\n '76': 3275,\n 'microsoft': 1956,\n 'investor': 8387,\n 'aren': 1685,\n 'happy': 4349,\n 'royal': 430,\n 'canada': 1341,\n 'reiterates': 1333,\n 'outperform': 1798,\n 'loop': 286,\n 'raise': 5763,\n '80': 9375,\n 'never': 9000,\n 'been': 19795,\n 'wrong': 5590,\n 'miracle': 310,\n '8o': 1,\n 'period': 1158,\n 'bollinger': 1344,\n 'band': 1516,\n 'dare': 353,\n 'say': 16233,\n 'didn': 5915,\n 'guilty': 97,\n 'fudge': 65,\n 'hardly': 254,\n 'ever': 5586,\n 'informative': 33,\n 'comment': 2083,\n 'page': 561,\n 'broken': 1590,\n 'giving': 1775,\n 'endless': 233,\n 'buffering': 4,\n 'icon': 94,\n 'give': 7663,\n 'viral': 18,\n 'walk': 1115,\n 'away': 4793,\n 'highlight': 248,\n 'growing': 2224,\n 'democrat': 276,\n 'leaving': 871,\n 'party': 1705,\n 'epoch': 2,\n 'robert': 973,\n 'baird': 649,\n 'neutral': 3475,\n 'weed': 714,\n 'other': 8457,\n 'drug': 1310,\n 'guess': 5919,\n 'reasonable': 609,\n 'nike': 3991,\n 'winning': 2103,\n 'click': 856,\n 'booking': 822,\n 'app': 5939,\n 'native': 19,\n 'seamless': 10,\n 'lovalized': 1,\n 'transactable': 1,\n 'ap': 80,\n 'vitiello': 1,\n 'tapped': 126,\n 'acting': 770,\n 'via': 12420,\n 'reach': 1960,\n '100': 14450,\n 'iconic': 62,\n 'brand': 1967,\n 'built': 443,\n 'mobile': 963,\n 'show': 9552,\n '13': 17348,\n '74': 3407,\n 'morning': 11332,\n 'heading': 2779,\n 'ath': 3137,\n '65': 6458,\n 'acquisition': 1764,\n 'total': 6059,\n '500': 5535,\n 'past': 8291,\n 'exit': 1465,\n 'zone': 1585,\n 'fantastic': 574,\n 'read': 3764,\n 'oil': 4738,\n 'tighten': 205,\n 'bbl': 148,\n 'getting': 12167,\n 'closer': 973,\n 'greatest': 421,\n 'yearly': 1237,\n 'performance': 2084,\n 'did': 12590,\n '98': 2996,\n 'champion': 158,\n 'cashflow': 75,\n 'highyield': 23,\n 'telecommunication': 7,\n 'pretty': 4433,\n 'risky': 710,\n 'gamble': 831,\n 'either': 3230,\n 'plummet': 326,\n 'rally': 6195,\n 'stronger': 865,\n 'apple': 12766,\n 'talking': 2689,\n 'referring': 107,\n 'intelsat': 5,\n 'punish': 128,\n 'seller': 3015,\n 'warehouse': 87,\n 'sense': 2198,\n 'old': 3799,\n 'gather': 129,\n 'dust': 433,\n 'pc': 605,\n 'gamers': 212,\n 'crypto': 1728,\n 'miner': 169,\n 'gpu': 1288,\n 'enthusiast': 27,\n 'waiting': 7231,\n 'two': 5493,\n 'only': 18962,\n 'medium': 3266,\n 'decent': 2927,\n 'pattern': 6525,\n 'five': 737,\n 'baba': 544,\n '190': 2385,\n 'ahhhhhhhhhhhhhhhhhhhhh': 1,\n 'raytheon': 176,\n 'industrials': 308,\n 'military': 308,\n 'trending': 1954,\n 'riiiiiiiiiich': 1,\n 'sooooon': 11,\n 'buuuuls': 1,\n 'looooove': 4,\n 'drunk': 207,\n 'doesn': 6267,\n 'through': 6149,\n '32': 9896,\n 'gapping': 285,\n '54': 4919,\n '64': 4163,\n 'warbey': 1,\n 'parker': 204,\n '8b': 188,\n 'prep': 102,\n 'glass': 294,\n 'seen': 3827,\n 'focus': 1053,\n 'fashion': 211,\n 'wrt': 16,\n 'wearable': 106,\n 'like': 51766,\n 'sbux': 224,\n 'paying': 1523,\n 'full': 2977,\n 'sex': 169,\n 'change': 5171,\n 'employee': 1101,\n 'hit': 12502,\n 'bottom': 9679,\n 'line': 7040,\n 'recap': 1341,\n '63': 3750,\n 'since': 22589,\n 'post': 7827,\n '62': 4317,\n 'trade': 49410,\n 'included': 374,\n 'hsy': 25,\n 'uri': 46,\n 'sonc': 11,\n 'dri': 41,\n 'kmx': 32,\n 'wynn': 504,\n 'akam': 48,\n 'enterprise': 1329,\n 'value': 5666,\n 'v': 5348,\n 'cap': 4028,\n '21b': 37,\n 'difference': 601,\n 'actual': 649,\n 'asset': 1895,\n 'spread': 2449,\n 'way': 16438,\n 'undervalued': 2514,\n 'million': 6145,\n 'added': 5553,\n 'dont': 6250,\n 'become': 1579,\n 'such': 2911,\n 'monopoly': 326,\n 'dipping': 299,\n 'into': 17262,\n 'everything': 4288,\n 'airline': 942,\n 'possibility': 467,\n 'loss': 7727,\n '95': 4616,\n 'suggested': 321,\n 'chartmill': 199,\n 'analyzer': 520,\n 'resistance': 6960,\n 'len': 54,\n '08': 28368,\n 'reversal': 4917,\n 'progress': 563,\n 've': 6725,\n 'recently': 823,\n 'closed': 3347,\n 'list': 3060,\n 'bought': 19118,\n 'same': 12057,\n 'used': 1739,\n 'according': 2030,\n 'data': 9711,\n 'reported': 14148,\n 'finra': 2763,\n 'clocked': 707,\n '58': 4441,\n 'official': 471,\n 'came': 1630,\n 'saying': 4009,\n 'agree': 1535,\n 'resume': 516,\n 'cover': 5873,\n 'penis': 47,\n 'putang': 1,\n 'front': 568,\n 'leg': 2237,\n 'would': 22369,\n 'some': 30346,\n 'am': 13249,\n 'watching': 5551,\n '78': 3738,\n '99': 3613,\n 'wonder': 2992,\n 'valued': 1624,\n '6th': 399,\n 'inning': 69,\n 'higher': 25445,\n 'also': 7884,\n 'shorted': 2971,\n '165': 1789,\n '175': 2731,\n 'consolidation': 2029,\n 'cautious': 516,\n 'stunned': 42,\n 'deeply': 90,\n 'disappointed': 457,\n 'close': 29497,\n '69': 3522,\n 'ending': 1212,\n '430': 322,\n 'killed': 1221,\n 'best': 9953,\n 'february': 375,\n '782': 53,\n 'funny': 2510,\n 'thing': 12587,\n 'similar': 1130,\n 'story': 2640,\n 'different': 1551,\n 'crab': 39,\n 'measured': 489,\n 'divergence': 774,\n 'really': 11265,\n 'momentum': 3389,\n 'starting': 3240,\n 'shi': 59,\n '229': 407,\n 'venture': 299,\n 'tariff': 8040,\n 'increase': 3976,\n 'profit': 16060,\n 'recession': 1039,\n 'come': 18444,\n 'keep': 14924,\n 'buying': 23791,\n 'pure': 932,\n 'beanscreen': 2,\n 'q3': 33388,\n 'min': 4275,\n 'indicating': 431,\n 'accumulation': 731,\n 'eod': 5156,\n 'could': 16180,\n 'pop': 7336,\n 'heavy': 1715,\n '244': 211,\n 'apog': 7,\n 'acn': 46,\n 'camp': 62,\n 'gi': 61,\n 'payx': 23,\n 'fdx': 112,\n 'goo': 177,\n 'squeeze': 5663,\n 'pullback': 4431,\n '163': 573,\n 'upside': 5160,\n 'nvda': 3191,\n 'safe': 1989,\n 'yield': 2476,\n 'div': 2199,\n '68': 3587,\n 'adding': 2947,\n '51': 4904,\n 'gladly': 91,\n 'irrationality': 24,\n 'reign': 40,\n 'possible': 4169,\n 'excess': 65,\n 'gain': 11661,\n 'welcome': 1337,\n 'gl': 2998,\n 'seeing': 2560,\n 'jumping': 707,\n 'joy': 272,\n 'least': 5497,\n 'given': 2983,\n 'action': 6827,\n 'bouncing': 945,\n 'continuation': 584,\n 'hopeful': 168,\n 'science': 319,\n 'officially': 540,\n 'became': 318,\n 'major': 3721,\n 'university': 70,\n 'ai': 1724,\n 'brainers': 5,\n 'era': 291,\n '90': 7296,\n '41': 4790,\n 'second': 2984,\n 'minute': 5017,\n '120': 2995,\n 'rule': 1998,\n 'applies': 83,\n 'zbra': 6,\n 'six': 557,\n 'fc': 22,\n 'gbx': 4,\n 'fds': 31,\n 'avav': 9,\n 'killing': 1662,\n 'tax': 2247,\n 'cut': 4880,\n 'idea': 3791,\n 'haven': 1827,\n 'posted': 4210,\n 'while': 7214,\n 'omg': 1695,\n 'toy': 360,\n 'land': 607,\n 'amazing': 2983,\n 'contributed': 38,\n 'ytd': 1115,\n 'popular': 406,\n 'word': 2033,\n 'buyin': 130,\n 'those': 9828,\n 'dip': 17700,\n 'haha': 2074,\n 'makin': 55,\n 'rain': 217,\n 'white': 922,\n 'house': 1697,\n 'quality': 1460,\n 'moment': 2630,\n 'doubt': 1730,\n 'production': 931,\n 'eps': 33250,\n 'constellation': 326,\n 'disney': 1297,\n 'clinch': 9,\n 'acquire': 711,\n 'fox': 766,\n 'group': 4412,\n 'counter': 250,\n 'aggregate': 761,\n '316': 134,\n '643': 38,\n 'southwest': 152,\n 'flight': 326,\n 'dallas': 44,\n 'delta': 418,\n 'spat': 52,\n 'california': 290,\n 'netflix': 5075,\n 'inc': 6960,\n 'nflx': 3231,\n 'versus': 925,\n 'fb': 7778,\n 'starbucks': 586,\n 'using': 2143,\n 'iex': 2187,\n 'calculate': 207,\n 'shorters': 271,\n '463': 69,\n '037': 20,\n 'emergence': 1,\n 'bankruptcy': 1423,\n 'emergency': 85,\n 'zwj': 6,\n 'investment': 4282,\n 'counsel': 371,\n 'lower': 16034,\n 'stake': 1022,\n 'unitedhealth': 172,\n 'unh': 107,\n 'tyzen': 1,\n ...}"
     },
     "metadata": {},
     "output_type": "execute_result",
     "execution_count": 7
    }
   ],
   "source": [
    "from collections import Counter\n",
    "\n",
    "\n",
    "\"\"\"\n",
    "Create a vocabulary by using Bag of words\n",
    "\"\"\"\n",
    "\n",
    "# TODO: Implement \n",
    "flat_list = Counter([word for token in tokenized for word in token])\n",
    "bow = dict(flat_list)\n",
    "bow"
   ]
  },
  {
   "cell_type": "markdown",
   "metadata": {},
   "source": [
    "### Frequency of Words Appearing in Message\n",
    "With our vocabulary, now we'll remove some of the most common words such as 'the', 'and', 'it', etc. These words don't contribute to identifying sentiment and are really common, resulting in a lot of noise in our input. If we can filter these out, then our network should have an easier time learning.\n",
    "\n",
    "We also want to remove really rare words that show up in a only a few twits. Here you'll want to divide the count of each word by the number of messages. Then remove words that only appear in some small fraction of the messages."
   ]
  },
  {
   "cell_type": "code",
   "execution_count": 8,
   "metadata": {
    "pycharm": {
     "is_executing": false
    }
   },
   "outputs": [
    {
     "name": "stdout",
     "text": [
      "['the', 'to', 'is', 'for', 'on', 'of', 'and', 'in', 'this', 'it']\n"
     ],
     "output_type": "stream"
    },
    {
     "data": {
      "text/plain": "59936"
     },
     "metadata": {},
     "output_type": "execute_result",
     "execution_count": 8
    }
   ],
   "source": [
    "\"\"\"\n",
    "Set the following variables:\n",
    "    freqs\n",
    "    low_cutoff\n",
    "    high_cutoff\n",
    "    K_most_common\n",
    "\"\"\"\n",
    "\n",
    "# TODO Implement \n",
    "\n",
    "# Dictionart that contains the Frequency of words appearing in messages.\n",
    "# The key is the token and the value is the frequency of that word in the corpus.\n",
    "total_count = len(bow)\n",
    "freqs = {word: count/total_count for word, count in bow.items()}\n",
    "\n",
    "# Float that is the frequency cutoff. Drop words with a frequency that is lower or equal to this number.\n",
    "low_cutoff = 1e-5\n",
    "\n",
    "# Integer that is the cut off for most common words. Drop words that are the `high_cutoff` most common words.\n",
    "high_cutoff = 10\n",
    "\n",
    "# The k most common words in the corpus. Use `high_cutoff` as the k.\n",
    "K_most_common = flat_list.most_common(high_cutoff)\n",
    "K_most_common = [x[0] for x in K_most_common]\n",
    "\n",
    "filtered_words = [word for word in freqs if (freqs[word] > low_cutoff and word not in K_most_common)]\n",
    "print(K_most_common)\n",
    "len(filtered_words) "
   ]
  },
  {
   "cell_type": "markdown",
   "metadata": {},
   "source": [
    "### Updating Vocabulary by Removing Filtered Words\n",
    "Let's creat three variables that will help with our vocabulary."
   ]
  },
  {
   "cell_type": "code",
   "execution_count": 9,
   "metadata": {
    "pycharm": {
     "is_executing": false
    }
   },
   "outputs": [],
   "source": [
    "\"\"\"\n",
    "Set the following variables:\n",
    "    vocab\n",
    "    id2vocab\n",
    "    filtered\n",
    "\"\"\"\n",
    "\n",
    "#TODO Implement\n",
    "\n",
    "# A dictionary for the `filtered_words`. The key is the word and value is an id that represents the word. \n",
    "vocab = {word: index for index, word in enumerate(filtered_words,1)}\n",
    "# Reverse of the `vocab` dictionary. The key is word id and value is the word. \n",
    "id2vocab = {ii: word for word, ii in vocab.items()}\n",
    "# tokenized with the words not in `filtered_words` removed.\n",
    "filtered = [[word for word in message if word in vocab] for message in tokenized]"
   ]
  },
  {
   "cell_type": "markdown",
   "metadata": {},
   "source": [
    "### Balancing the classes\n",
    "Let's do a few last pre-processing steps. If we look at how our twits are labeled, we'll find that 50% of them are neutral. This means that our network will be 50% accurate just by guessing 0 every single time. To help our network learn appropriately, we'll want to balance our classes.\n",
    "That is, make sure each of our different sentiment scores show up roughly as frequently in the data.\n",
    "\n",
    "What we can do here is go through each of our examples and randomly drop twits with neutral sentiment. What should be the probability we drop these twits if we want to get around 20% neutral twits starting at 50% neutral? We should also take this opportunity to remove messages with length 0."
   ]
  },
  {
   "cell_type": "code",
   "execution_count": 10,
   "metadata": {
    "pycharm": {
     "is_executing": false
    }
   },
   "outputs": [],
   "source": [
    "balanced = {'messages': [], 'sentiments':[]}\n",
    "\n",
    "n_neutral = sum(1 for each in sentiments if each == 2)\n",
    "N_examples = len(sentiments)\n",
    "keep_prob = (N_examples - n_neutral)/4/n_neutral\n",
    "\n",
    "for idx, sentiment in enumerate(sentiments):\n",
    "    message = filtered[idx]\n",
    "    if len(message) == 0:\n",
    "        # skip this message because it has length zero\n",
    "        continue\n",
    "    elif sentiment != 2 or random.random() < keep_prob:\n",
    "        balanced['messages'].append(message)\n",
    "        balanced['sentiments'].append(sentiment) "
   ]
  },
  {
   "cell_type": "markdown",
   "metadata": {},
   "source": [
    "If you did it correctly, you should see the following result "
   ]
  },
  {
   "cell_type": "code",
   "execution_count": 11,
   "metadata": {
    "pycharm": {
     "is_executing": false
    }
   },
   "outputs": [
    {
     "data": {
      "text/plain": "0.1939639568132232"
     },
     "metadata": {},
     "output_type": "execute_result",
     "execution_count": 11
    }
   ],
   "source": [
    "n_neutral = sum(1 for each in balanced['sentiments'] if each == 2)\n",
    "N_examples = len(balanced['sentiments'])\n",
    "n_neutral/N_examples"
   ]
  },
  {
   "cell_type": "markdown",
   "metadata": {},
   "source": [
    "Finally let's convert our tokens into integer ids which we can pass to the network."
   ]
  },
  {
   "cell_type": "code",
   "execution_count": 12,
   "metadata": {
    "pycharm": {
     "is_executing": false
    }
   },
   "outputs": [],
   "source": [
    "token_ids = [[vocab[word] for word in message] for message in balanced['messages']]\n",
    "sentiments = balanced['sentiments']"
   ]
  },
  {
   "cell_type": "markdown",
   "metadata": {},
   "source": [
    "## Neural Network\n",
    "Now we have our vocabulary which means we can transform our tokens into ids, which are then passed to our network. So, let's define the network now!\n",
    "\n",
    "Here is a nice diagram showing the network we'd like to build: \n",
    "\n",
    "#### Embed -> RNN -> Dense -> Softmax\n",
    "### Implement the text classifier\n",
    "Before we build text classifier, if you remember from the other network that you built in  \"Sentiment Analysis with an RNN\"  exercise  - which there, the network called \" SentimentRNN\", here we named it \"TextClassifer\" - consists of three main parts: 1) init function `__init__` 2) forward pass `forward`  3) hidden state `init_hidden`. \n",
    "\n",
    "This network is pretty similar to the network you built expect in the  `forward` pass, we use softmax instead of sigmoid. The reason we are not using sigmoid is that the output of NN is not a binary. In our network, sentiment scores have 5 possible outcomes. We are looking for an outcome with the highest probability thus softmax is a better choice."
   ]
  },
  {
   "cell_type": "code",
   "execution_count": 13,
   "metadata": {
    "pycharm": {
     "is_executing": false
    }
   },
   "outputs": [],
   "source": [
    "class TextClassifier(nn.Module):\n",
    "    def __init__(self, vocab_size, embed_size, lstm_size, output_size, lstm_layers=1, dropout=0.1):\n",
    "        \"\"\"\n",
    "        Initialize the model by setting up the layers.\n",
    "        \n",
    "        Parameters\n",
    "        ----------\n",
    "            vocab_size : The vocabulary size.\n",
    "            embed_size : The embedding layer size.\n",
    "            lstm_size : The LSTM layer size.\n",
    "            output_size : The output size.\n",
    "            lstm_layers : The number of LSTM layers.\n",
    "            dropout : The dropout probability.\n",
    "        \"\"\"\n",
    "        \n",
    "        super().__init__()\n",
    "        self.vocab_size = vocab_size\n",
    "        self.embed_size = embed_size\n",
    "        self.lstm_size = lstm_size\n",
    "        self.output_size = output_size\n",
    "        self.lstm_layers = lstm_layers\n",
    "        self.dropout = dropout\n",
    "        \n",
    "        # TODO Implement\n",
    "\n",
    "        # Setup embedding layer\n",
    "        self.embedding = nn.Embedding(vocab_size, embed_size)\n",
    "        \n",
    "        # Setup additional layers\n",
    "        self.lstm = nn.LSTM(embed_size,lstm_size,lstm_layers,dropout=dropout, batch_first=False)\n",
    "        \n",
    "        # dropout and fully-connected layer\n",
    "        self.dropout = nn.Dropout(dropout)\n",
    "        self.fc = nn.Linear(lstm_size, output_size)\n",
    "        \n",
    "        # log softmax layer\n",
    "        self.log_softmax = nn.LogSoftmax(dim=1)\n",
    "\n",
    "\n",
    "    def init_hidden(self, batch_size):\n",
    "        \"\"\" \n",
    "        Initializes hidden state\n",
    "        \n",
    "        Parameters\n",
    "        ----------\n",
    "            batch_size : The size of batches.\n",
    "        \n",
    "        Returns\n",
    "        -------\n",
    "            hidden_state\n",
    "            \n",
    "        \"\"\"\n",
    "        \n",
    "        # TODO Implement \n",
    "        \n",
    "        # Create two new tensors with sizes n_layers x batch_size x hidden_dim,\n",
    "        # initialized to zero, for hidden state and cell state of LSTM\n",
    "        weight = next(self.parameters()).data\n",
    "        \n",
    "        hidden = (weight.new(self.lstm_layers, batch_size, self.lstm_size).zero_(),\n",
    "                  weight.new(self.lstm_layers, batch_size, self.lstm_size).zero_())\n",
    "                    \n",
    "        return hidden\n",
    "\n",
    "\n",
    "    def forward(self, nn_input, hidden_state):\n",
    "        \"\"\"\n",
    "        Perform a forward pass of our model on nn_input.\n",
    "        \n",
    "        Parameters\n",
    "        ----------\n",
    "            nn_input : The batch of input to the NN.\n",
    "            hidden_state : The LSTM hidden state.\n",
    "\n",
    "        Returns\n",
    "        -------\n",
    "            logps: log softmax output\n",
    "            hidden_state: The new hidden state.\n",
    "\n",
    "        \"\"\"\n",
    "        \n",
    "        # TODO Implement \n",
    "           \n",
    "        nn_input = nn_input.long()\n",
    "        \n",
    "        # embeddings and lstm_out\n",
    "        embeds = self.embedding(nn_input)\n",
    "        lstm_out, hidden = self.lstm(embeds, hidden_state)\n",
    "        \n",
    "        # stack up lstm outputs\n",
    "        lstm_out = lstm_out[-1,:,:]\n",
    "        \n",
    "        # dropout and fully-connected layer\n",
    "        out = self.dropout(lstm_out)\n",
    "        out = self.fc(out)\n",
    "        \n",
    "        # log softmax function\n",
    "        logps = self.log_softmax(out)\n",
    "        \n",
    "        batch_size = nn_input.size(1)     \n",
    "        \n",
    "        return logps, hidden"
   ]
  },
  {
   "cell_type": "markdown",
   "metadata": {},
   "source": [
    "### View Model"
   ]
  },
  {
   "cell_type": "code",
   "execution_count": 14,
   "metadata": {
    "pycharm": {
     "is_executing": false
    }
   },
   "outputs": [
    {
     "name": "stdout",
     "text": [
      "tensor([[-1.8077, -2.0113, -1.8167, -1.0368, -1.6874],\n",
      "        [-1.7426, -1.9060, -1.7774, -1.1165, -1.7162],\n",
      "        [-1.7664, -1.9559, -1.9512, -0.9725, -1.7875],\n",
      "        [-1.7692, -1.9583, -1.9062, -1.0007, -1.7592]],\n",
      "       grad_fn=<LogSoftmaxBackward>)\n"
     ],
     "output_type": "stream"
    }
   ],
   "source": [
    "model = TextClassifier(len(vocab), 10, 6, 5, dropout=0.1, lstm_layers=2)\n",
    "model.embedding.weight.data.uniform_(-1, 1)\n",
    "input = torch.randint(0, 1000, (5, 4), dtype=torch.int64)\n",
    "hidden = model.init_hidden(4)\n",
    "\n",
    "logps, _ = model.forward(input, hidden)\n",
    "print(logps)"
   ]
  },
  {
   "cell_type": "markdown",
   "metadata": {},
   "source": [
    "## Training\n",
    "### DataLoaders and Batching\n",
    "Now we should build a generator that we can use to loop through our data. It'll be more efficient if we can pass our sequences in as batches. Our input tensors should look like `(sequence_length, batch_size)`. So if our sequences are 40 tokens long and we pass in 25 sequences, then we'd have an input size of `(40, 25)`.\n",
    "\n",
    "If we set our sequence length to 40, what do we do with messages that are more or less than 40 tokens? For messages with fewer than 40 tokens, we will pad the empty spots with zeros. We should be sure to **left** pad so that the RNN starts from nothing before going through the data. If the message has 20 tokens, then the first 20 spots of our 40 long sequence will be 0. If a message has more than 40 tokens, we'll just keep the first 40 tokens."
   ]
  },
  {
   "cell_type": "code",
   "execution_count": 15,
   "metadata": {
    "pycharm": {
     "is_executing": false
    }
   },
   "outputs": [],
   "source": [
    "def dataloader(messages, labels, sequence_length=30, batch_size=32, shuffle=False):\n",
    "    \"\"\" \n",
    "    Build a dataloader.\n",
    "    \"\"\"\n",
    "    if shuffle:\n",
    "        indices = list(range(len(messages)))\n",
    "        random.shuffle(indices)\n",
    "        messages = [messages[idx] for idx in indices]\n",
    "        labels = [labels[idx] for idx in indices]\n",
    "\n",
    "    total_sequences = len(messages)\n",
    "\n",
    "    for ii in range(0, total_sequences, batch_size):\n",
    "        batch_messages = messages[ii: ii+batch_size]\n",
    "        \n",
    "        # First initialize a tensor of all zeros\n",
    "        batch = torch.zeros((sequence_length, len(batch_messages)), dtype=torch.int64)\n",
    "        for batch_num, tokens in enumerate(batch_messages):\n",
    "            token_tensor = torch.tensor(tokens)\n",
    "            # Left pad!\n",
    "            start_idx = max(sequence_length - len(token_tensor), 0)\n",
    "            batch[start_idx:, batch_num] = token_tensor[:sequence_length]\n",
    "        \n",
    "        label_tensor = torch.tensor(labels[ii: ii+len(batch_messages)])\n",
    "        \n",
    "        yield batch, label_tensor"
   ]
  },
  {
   "cell_type": "markdown",
   "metadata": {},
   "source": [
    "### Training and  Validation\n",
    "With our data in nice shape, we'll split it into training and validation sets."
   ]
  },
  {
   "cell_type": "code",
   "execution_count": 16,
   "metadata": {
    "pycharm": {
     "is_executing": false
    }
   },
   "outputs": [],
   "source": [
    "\"\"\"\n",
    "Split data into training and validation datasets. Use an appropriate split size.\n",
    "The features are the `token_ids` and the labels are the `sentiments`.\n",
    "\"\"\"   \n",
    "\n",
    "# TODO Implement \n",
    "split_frac = 0.7\n",
    "split_idx = int(len(token_ids) * split_frac)\n",
    "\n",
    "train_features = token_ids[:split_idx]\n",
    "valid_features = token_ids[split_idx:]\n",
    "train_labels = sentiments[:split_idx]\n",
    "valid_labels = sentiments[split_idx:]"
   ]
  },
  {
   "cell_type": "code",
   "execution_count": 17,
   "metadata": {
    "pycharm": {
     "is_executing": false
    }
   },
   "outputs": [],
   "source": [
    "text_batch, labels = next(iter(dataloader(train_features, train_labels, sequence_length=20, batch_size=64)))\n",
    "model = TextClassifier(len(vocab)+1, 200, 128, 5, dropout=0.)\n",
    "hidden = model.init_hidden(64)\n",
    "logps, hidden = model.forward(text_batch, hidden)"
   ]
  },
  {
   "cell_type": "markdown",
   "metadata": {},
   "source": [
    "### Training\n",
    "It's time to train the neural network!"
   ]
  },
  {
   "cell_type": "code",
   "execution_count": 18,
   "metadata": {
    "pycharm": {
     "is_executing": false
    }
   },
   "outputs": [
    {
     "data": {
      "text/plain": "TextClassifier(\n  (embedding): Embedding(59937, 1024)\n  (lstm): LSTM(1024, 512, num_layers=2, dropout=0.2)\n  (dropout): Dropout(p=0.2, inplace=False)\n  (fc): Linear(in_features=512, out_features=5, bias=True)\n  (log_softmax): LogSoftmax()\n)"
     },
     "metadata": {},
     "output_type": "execute_result",
     "execution_count": 18
    }
   ],
   "source": [
    "device = torch.device(\"cuda\" if torch.cuda.is_available() else \"cpu\")\n",
    "\n",
    "model = TextClassifier(len(vocab)+1, 1024, 512, 5, lstm_layers=2, dropout=0.2)\n",
    "model.embedding.weight.data.uniform_(-1, 1)\n",
    "model.to(device)\n"
   ]
  },
  {
   "cell_type": "code",
   "execution_count": 19,
   "outputs": [
    {
     "data": {
      "text/plain": "device(type='cuda')"
     },
     "metadata": {},
     "output_type": "execute_result",
     "execution_count": 19
    }
   ],
   "source": [
    "torch.cuda.is_available()\n",
    "\n",
    "device\n"
   ],
   "metadata": {
    "collapsed": false,
    "pycharm": {
     "name": "#%%\n",
     "is_executing": false
    }
   }
  },
  {
   "cell_type": "code",
   "execution_count": 20,
   "outputs": [
    {
     "name": "stdout",
     "text": [
      "Starting epoch 1\n",
      "Epoch: 1/20... Step: 100... Loss: 1.024166... Val Loss: 1.022621\n",
      "Epoch: 1/20... Step: 200... Loss: 0.842767... Val Loss: 0.912837\n",
      "Epoch: 1/20... Step: 300... Loss: 0.802516... Val Loss: 0.849032\n",
      "Epoch: 1/20... Step: 400... Loss: 0.784558... Val Loss: 0.810214\n",
      "Epoch: 1/20... Step: 500... Loss: 0.757263... Val Loss: 0.788671\n",
      "Epoch: 1/20... Step: 600... Loss: 0.700687... Val Loss: 0.765835\n",
      "Epoch: 1/20... Step: 700... Loss: 0.792969... Val Loss: 0.751338\n",
      "Epoch: 1/20... Step: 800... Loss: 0.689363... Val Loss: 0.737014\n",
      "Epoch: 1/20... Step: 900... Loss: 0.649058... Val Loss: 0.723974\n",
      "Epoch: 1/20... Step: 1000... Loss: 0.641851... Val Loss: 0.714174\n",
      "Epoch: 1/20... Step: 1100... Loss: 0.651135... Val Loss: 0.708353\n",
      "Epoch: 1/20... Step: 1200... Loss: 0.735906... Val Loss: 0.701241\n",
      "Epoch: 1/20... Step: 1300... Loss: 0.701783... Val Loss: 0.694610\n",
      "Epoch: 1/20... Step: 1400... Loss: 0.682667... Val Loss: 0.697682\n",
      "Starting epoch 2\n",
      "Epoch: 2/20... Step: 100... Loss: 0.660487... Val Loss: 0.700187\n",
      "Epoch: 2/20... Step: 200... Loss: 0.635758... Val Loss: 0.696264\n",
      "Epoch: 2/20... Step: 300... Loss: 0.568724... Val Loss: 0.690672\n",
      "Epoch: 2/20... Step: 400... Loss: 0.617900... Val Loss: 0.691735\n",
      "Epoch: 2/20... Step: 500... Loss: 0.652747... Val Loss: 0.687852\n",
      "Epoch: 2/20... Step: 600... Loss: 0.653208... Val Loss: 0.679226\n",
      "Epoch: 2/20... Step: 700... Loss: 0.615968... Val Loss: 0.685688\n",
      "Epoch: 2/20... Step: 800... Loss: 0.536174... Val Loss: 0.676773\n",
      "Epoch: 2/20... Step: 900... Loss: 0.614139... Val Loss: 0.679283\n",
      "Epoch: 2/20... Step: 1000... Loss: 0.621759... Val Loss: 0.672884\n",
      "Epoch: 2/20... Step: 1100... Loss: 0.584240... Val Loss: 0.678253\n",
      "Epoch: 2/20... Step: 1200... Loss: 0.641888... Val Loss: 0.674288\n",
      "Epoch: 2/20... Step: 1300... Loss: 0.666411... Val Loss: 0.671743\n",
      "Epoch: 2/20... Step: 1400... Loss: 0.643632... Val Loss: 0.668793\n",
      "Starting epoch 3\n",
      "Epoch: 3/20... Step: 100... Loss: 0.525352... Val Loss: 0.710629\n",
      "Epoch: 3/20... Step: 200... Loss: 0.562704... Val Loss: 0.704787\n",
      "Epoch: 3/20... Step: 300... Loss: 0.611356... Val Loss: 0.709749\n",
      "Epoch: 3/20... Step: 400... Loss: 0.484416... Val Loss: 0.707065\n",
      "Epoch: 3/20... Step: 500... Loss: 0.549511... Val Loss: 0.704860\n",
      "Epoch: 3/20... Step: 600... Loss: 0.538830... Val Loss: 0.701931\n",
      "Epoch: 3/20... Step: 700... Loss: 0.564750... Val Loss: 0.701146\n",
      "Epoch: 3/20... Step: 800... Loss: 0.542014... Val Loss: 0.700933\n",
      "Epoch: 3/20... Step: 900... Loss: 0.575572... Val Loss: 0.697259\n",
      "Epoch: 3/20... Step: 1000... Loss: 0.567096... Val Loss: 0.705770\n",
      "Epoch: 3/20... Step: 1100... Loss: 0.595060... Val Loss: 0.694564\n",
      "Epoch: 3/20... Step: 1200... Loss: 0.531648... Val Loss: 0.693549\n",
      "Epoch: 3/20... Step: 1300... Loss: 0.529756... Val Loss: 0.690468\n",
      "Epoch: 3/20... Step: 1400... Loss: 0.535708... Val Loss: 0.686884\n",
      "Starting epoch 4\n",
      "Epoch: 4/20... Step: 100... Loss: 0.466868... Val Loss: 0.778750\n",
      "Epoch: 4/20... Step: 200... Loss: 0.435631... Val Loss: 0.774824\n",
      "Epoch: 4/20... Step: 300... Loss: 0.390196... Val Loss: 0.769360\n",
      "Epoch: 4/20... Step: 400... Loss: 0.472982... Val Loss: 0.767494\n",
      "Epoch: 4/20... Step: 500... Loss: 0.459208... Val Loss: 0.765449\n",
      "Epoch: 4/20... Step: 600... Loss: 0.439424... Val Loss: 0.771102\n",
      "Epoch: 4/20... Step: 700... Loss: 0.430930... Val Loss: 0.763385\n",
      "Epoch: 4/20... Step: 800... Loss: 0.481915... Val Loss: 0.760066\n",
      "Epoch: 4/20... Step: 900... Loss: 0.510612... Val Loss: 0.767725\n",
      "Epoch: 4/20... Step: 1000... Loss: 0.427299... Val Loss: 0.759744\n",
      "Epoch: 4/20... Step: 1100... Loss: 0.505040... Val Loss: 0.755288\n",
      "Epoch: 4/20... Step: 1200... Loss: 0.469432... Val Loss: 0.760279\n",
      "Epoch: 4/20... Step: 1300... Loss: 0.472893... Val Loss: 0.756957\n",
      "Epoch: 4/20... Step: 1400... Loss: 0.482375... Val Loss: 0.748531\n",
      "Starting epoch 5\n",
      "Epoch: 5/20... Step: 100... Loss: 0.309494... Val Loss: 0.883822\n",
      "Epoch: 5/20... Step: 200... Loss: 0.361498... Val Loss: 0.885129\n",
      "Epoch: 5/20... Step: 300... Loss: 0.398121... Val Loss: 0.894600\n",
      "Epoch: 5/20... Step: 400... Loss: 0.382556... Val Loss: 0.892387\n",
      "Epoch: 5/20... Step: 500... Loss: 0.368832... Val Loss: 0.877585\n",
      "Epoch: 5/20... Step: 600... Loss: 0.354347... Val Loss: 0.874148\n",
      "Epoch: 5/20... Step: 700... Loss: 0.344891... Val Loss: 0.867725\n",
      "Epoch: 5/20... Step: 800... Loss: 0.427666... Val Loss: 0.866745\n",
      "Epoch: 5/20... Step: 900... Loss: 0.408730... Val Loss: 0.857307\n",
      "Epoch: 5/20... Step: 1000... Loss: 0.425339... Val Loss: 0.871606\n",
      "Epoch: 5/20... Step: 1100... Loss: 0.381882... Val Loss: 0.865746\n",
      "Epoch: 5/20... Step: 1200... Loss: 0.388440... Val Loss: 0.844889\n",
      "Epoch: 5/20... Step: 1300... Loss: 0.397725... Val Loss: 0.841507\n",
      "Epoch: 5/20... Step: 1400... Loss: 0.432034... Val Loss: 0.859654\n",
      "Starting epoch 6\n",
      "Epoch: 6/20... Step: 100... Loss: 0.263875... Val Loss: 0.995601\n",
      "Epoch: 6/20... Step: 200... Loss: 0.287898... Val Loss: 1.015455\n",
      "Epoch: 6/20... Step: 300... Loss: 0.302843... Val Loss: 1.022984\n",
      "Epoch: 6/20... Step: 400... Loss: 0.247384... Val Loss: 1.023018\n",
      "Epoch: 6/20... Step: 500... Loss: 0.322877... Val Loss: 1.005892\n",
      "Epoch: 6/20... Step: 600... Loss: 0.331873... Val Loss: 1.012678\n",
      "Epoch: 6/20... Step: 700... Loss: 0.228761... Val Loss: 1.018838\n",
      "Epoch: 6/20... Step: 800... Loss: 0.266175... Val Loss: 0.992164\n",
      "Epoch: 6/20... Step: 900... Loss: 0.297590... Val Loss: 1.007730\n",
      "Epoch: 6/20... Step: 1000... Loss: 0.298577... Val Loss: 1.004915\n",
      "Epoch: 6/20... Step: 1100... Loss: 0.302165... Val Loss: 0.985275\n",
      "Epoch: 6/20... Step: 1200... Loss: 0.300115... Val Loss: 1.008346\n",
      "Epoch: 6/20... Step: 1300... Loss: 0.272973... Val Loss: 0.975657\n",
      "Epoch: 6/20... Step: 1400... Loss: 0.363128... Val Loss: 0.982662\n",
      "Starting epoch 7\n",
      "Epoch: 7/20... Step: 100... Loss: 0.237077... Val Loss: 1.181424\n",
      "Epoch: 7/20... Step: 200... Loss: 0.255411... Val Loss: 1.160493\n",
      "Epoch: 7/20... Step: 300... Loss: 0.209538... Val Loss: 1.176850\n",
      "Epoch: 7/20... Step: 400... Loss: 0.271095... Val Loss: 1.184311\n",
      "Epoch: 7/20... Step: 500... Loss: 0.240762... Val Loss: 1.151755\n",
      "Epoch: 7/20... Step: 600... Loss: 0.308376... Val Loss: 1.141884\n",
      "Epoch: 7/20... Step: 700... Loss: 0.309476... Val Loss: 1.139760\n",
      "Epoch: 7/20... Step: 800... Loss: 0.217656... Val Loss: 1.122780\n",
      "Epoch: 7/20... Step: 900... Loss: 0.251664... Val Loss: 1.160250\n",
      "Epoch: 7/20... Step: 1000... Loss: 0.280897... Val Loss: 1.130564\n",
      "Epoch: 7/20... Step: 1100... Loss: 0.235589... Val Loss: 1.112499\n",
      "Epoch: 7/20... Step: 1200... Loss: 0.266653... Val Loss: 1.100839\n",
      "Epoch: 7/20... Step: 1300... Loss: 0.323121... Val Loss: 1.092601\n",
      "Epoch: 7/20... Step: 1400... Loss: 0.263320... Val Loss: 1.103686\n",
      "Starting epoch 8\n",
      "Epoch: 8/20... Step: 100... Loss: 0.204126... Val Loss: 1.286973\n",
      "Epoch: 8/20... Step: 200... Loss: 0.213148... Val Loss: 1.280162\n",
      "Epoch: 8/20... Step: 300... Loss: 0.181160... Val Loss: 1.293306\n",
      "Epoch: 8/20... Step: 400... Loss: 0.216604... Val Loss: 1.281092\n",
      "Epoch: 8/20... Step: 500... Loss: 0.201319... Val Loss: 1.263275\n",
      "Epoch: 8/20... Step: 600... Loss: 0.203047... Val Loss: 1.247201\n",
      "Epoch: 8/20... Step: 700... Loss: 0.201573... Val Loss: 1.260051\n",
      "Epoch: 8/20... Step: 800... Loss: 0.268378... Val Loss: 1.230904\n",
      "Epoch: 8/20... Step: 900... Loss: 0.240653... Val Loss: 1.224718\n",
      "Epoch: 8/20... Step: 1000... Loss: 0.194167... Val Loss: 1.218257\n",
      "Epoch: 8/20... Step: 1100... Loss: 0.237276... Val Loss: 1.227745\n",
      "Epoch: 8/20... Step: 1200... Loss: 0.215640... Val Loss: 1.217321\n",
      "Epoch: 8/20... Step: 1300... Loss: 0.183514... Val Loss: 1.212462\n",
      "Epoch: 8/20... Step: 1400... Loss: 0.251180... Val Loss: 1.212118\n",
      "Starting epoch 9\n",
      "Epoch: 9/20... Step: 100... Loss: 0.202415... Val Loss: 1.369844\n",
      "Epoch: 9/20... Step: 200... Loss: 0.147163... Val Loss: 1.412459\n",
      "Epoch: 9/20... Step: 300... Loss: 0.134031... Val Loss: 1.409041\n",
      "Epoch: 9/20... Step: 400... Loss: 0.135754... Val Loss: 1.377138\n",
      "Epoch: 9/20... Step: 500... Loss: 0.161110... Val Loss: 1.360970\n",
      "Epoch: 9/20... Step: 600... Loss: 0.237949... Val Loss: 1.327232\n",
      "Epoch: 9/20... Step: 700... Loss: 0.167139... Val Loss: 1.318167\n",
      "Epoch: 9/20... Step: 800... Loss: 0.187084... Val Loss: 1.330332\n",
      "Epoch: 9/20... Step: 900... Loss: 0.195215... Val Loss: 1.314121\n",
      "Epoch: 9/20... Step: 1000... Loss: 0.213206... Val Loss: 1.316479\n",
      "Epoch: 9/20... Step: 1100... Loss: 0.232035... Val Loss: 1.301479\n",
      "Epoch: 9/20... Step: 1200... Loss: 0.185301... Val Loss: 1.281912\n",
      "Epoch: 9/20... Step: 1300... Loss: 0.212674... Val Loss: 1.284936\n",
      "Epoch: 9/20... Step: 1400... Loss: 0.214439... Val Loss: 1.269507\n",
      "Starting epoch 10\n",
      "Epoch: 10/20... Step: 100... Loss: 0.106884... Val Loss: 1.440313\n",
      "Epoch: 10/20... Step: 200... Loss: 0.163002... Val Loss: 1.506175\n",
      "Epoch: 10/20... Step: 300... Loss: 0.164315... Val Loss: 1.498121\n",
      "Epoch: 10/20... Step: 400... Loss: 0.127413... Val Loss: 1.443098\n",
      "Epoch: 10/20... Step: 500... Loss: 0.133858... Val Loss: 1.440711\n",
      "Epoch: 10/20... Step: 600... Loss: 0.207215... Val Loss: 1.422854\n",
      "Epoch: 10/20... Step: 700... Loss: 0.217094... Val Loss: 1.409838\n",
      "Epoch: 10/20... Step: 800... Loss: 0.177816... Val Loss: 1.401929\n",
      "Epoch: 10/20... Step: 900... Loss: 0.187046... Val Loss: 1.392949\n",
      "Epoch: 10/20... Step: 1000... Loss: 0.186950... Val Loss: 1.367112\n",
      "Epoch: 10/20... Step: 1100... Loss: 0.183802... Val Loss: 1.356693\n",
      "Epoch: 10/20... Step: 1200... Loss: 0.147509... Val Loss: 1.377358\n",
      "Epoch: 10/20... Step: 1300... Loss: 0.199959... Val Loss: 1.351563\n",
      "Epoch: 10/20... Step: 1400... Loss: 0.210705... Val Loss: 1.328209\n",
      "Starting epoch 11\n",
      "Epoch: 11/20... Step: 100... Loss: 0.172497... Val Loss: 1.487277\n",
      "Epoch: 11/20... Step: 200... Loss: 0.155560... Val Loss: 1.516724\n",
      "Epoch: 11/20... Step: 300... Loss: 0.103927... Val Loss: 1.481068\n",
      "Epoch: 11/20... Step: 400... Loss: 0.108540... Val Loss: 1.509506\n",
      "Epoch: 11/20... Step: 500... Loss: 0.134377... Val Loss: 1.502083\n",
      "Epoch: 11/20... Step: 600... Loss: 0.162166... Val Loss: 1.491595\n",
      "Epoch: 11/20... Step: 700... Loss: 0.221243... Val Loss: 1.487796\n",
      "Epoch: 11/20... Step: 800... Loss: 0.161438... Val Loss: 1.458041\n",
      "Epoch: 11/20... Step: 900... Loss: 0.162654... Val Loss: 1.453878\n",
      "Epoch: 11/20... Step: 1000... Loss: 0.148415... Val Loss: 1.430957\n",
      "Epoch: 11/20... Step: 1100... Loss: 0.173592... Val Loss: 1.420578\n",
      "Epoch: 11/20... Step: 1200... Loss: 0.146159... Val Loss: 1.420583\n",
      "Epoch: 11/20... Step: 1300... Loss: 0.189116... Val Loss: 1.401949\n",
      "Epoch: 11/20... Step: 1400... Loss: 0.189774... Val Loss: 1.413398\n",
      "Starting epoch 12\n",
      "Epoch: 12/20... Step: 100... Loss: 0.131571... Val Loss: 1.537103\n",
      "Epoch: 12/20... Step: 200... Loss: 0.111722... Val Loss: 1.549013\n",
      "Epoch: 12/20... Step: 300... Loss: 0.137291... Val Loss: 1.536615\n",
      "Epoch: 12/20... Step: 400... Loss: 0.168347... Val Loss: 1.582248\n",
      "Epoch: 12/20... Step: 500... Loss: 0.129129... Val Loss: 1.551889\n",
      "Epoch: 12/20... Step: 600... Loss: 0.154698... Val Loss: 1.550726\n",
      "Epoch: 12/20... Step: 700... Loss: 0.151279... Val Loss: 1.530230\n",
      "Epoch: 12/20... Step: 800... Loss: 0.114052... Val Loss: 1.498731\n",
      "Epoch: 12/20... Step: 900... Loss: 0.149224... Val Loss: 1.512302\n",
      "Epoch: 12/20... Step: 1000... Loss: 0.160749... Val Loss: 1.494527\n",
      "Epoch: 12/20... Step: 1100... Loss: 0.164142... Val Loss: 1.453536\n",
      "Epoch: 12/20... Step: 1200... Loss: 0.189636... Val Loss: 1.482257\n",
      "Epoch: 12/20... Step: 1300... Loss: 0.175645... Val Loss: 1.448406\n",
      "Epoch: 12/20... Step: 1400... Loss: 0.182329... Val Loss: 1.455175\n",
      "Starting epoch 13\n",
      "Epoch: 13/20... Step: 100... Loss: 0.147582... Val Loss: 1.586429\n",
      "Epoch: 13/20... Step: 200... Loss: 0.145092... Val Loss: 1.583754\n",
      "Epoch: 13/20... Step: 300... Loss: 0.173895... Val Loss: 1.615495\n",
      "Epoch: 13/20... Step: 400... Loss: 0.123695... Val Loss: 1.616537\n",
      "Epoch: 13/20... Step: 500... Loss: 0.124008... Val Loss: 1.594064\n",
      "Epoch: 13/20... Step: 600... Loss: 0.142601... Val Loss: 1.570568\n",
      "Epoch: 13/20... Step: 700... Loss: 0.103889... Val Loss: 1.571742\n",
      "Epoch: 13/20... Step: 800... Loss: 0.130769... Val Loss: 1.564579\n",
      "Epoch: 13/20... Step: 900... Loss: 0.107393... Val Loss: 1.545633\n",
      "Epoch: 13/20... Step: 1000... Loss: 0.158663... Val Loss: 1.534767\n",
      "Epoch: 13/20... Step: 1100... Loss: 0.141370... Val Loss: 1.535971\n",
      "Epoch: 13/20... Step: 1200... Loss: 0.214754... Val Loss: 1.496213\n",
      "Epoch: 13/20... Step: 1300... Loss: 0.182234... Val Loss: 1.514707\n",
      "Epoch: 13/20... Step: 1400... Loss: 0.126807... Val Loss: 1.492247\n",
      "Starting epoch 14\n",
      "Epoch: 14/20... Step: 100... Loss: 0.088349... Val Loss: 1.616799\n",
      "Epoch: 14/20... Step: 200... Loss: 0.126004... Val Loss: 1.626834\n",
      "Epoch: 14/20... Step: 300... Loss: 0.175242... Val Loss: 1.624707\n",
      "Epoch: 14/20... Step: 400... Loss: 0.099960... Val Loss: 1.632327\n",
      "Epoch: 14/20... Step: 500... Loss: 0.139025... Val Loss: 1.623249\n",
      "Epoch: 14/20... Step: 600... Loss: 0.126057... Val Loss: 1.599905\n",
      "Epoch: 14/20... Step: 700... Loss: 0.089217... Val Loss: 1.605367\n",
      "Epoch: 14/20... Step: 800... Loss: 0.141516... Val Loss: 1.618929\n",
      "Epoch: 14/20... Step: 900... Loss: 0.150982... Val Loss: 1.576765\n",
      "Epoch: 14/20... Step: 1000... Loss: 0.166394... Val Loss: 1.544112\n",
      "Epoch: 14/20... Step: 1100... Loss: 0.177574... Val Loss: 1.540862\n",
      "Epoch: 14/20... Step: 1200... Loss: 0.162822... Val Loss: 1.530523\n",
      "Epoch: 14/20... Step: 1300... Loss: 0.159643... Val Loss: 1.523483\n",
      "Epoch: 14/20... Step: 1400... Loss: 0.181458... Val Loss: 1.524613\n",
      "Starting epoch 15\n",
      "Epoch: 15/20... Step: 100... Loss: 0.130355... Val Loss: 1.651194\n",
      "Epoch: 15/20... Step: 200... Loss: 0.096426... Val Loss: 1.664337\n",
      "Epoch: 15/20... Step: 300... Loss: 0.088412... Val Loss: 1.654248\n",
      "Epoch: 15/20... Step: 400... Loss: 0.112758... Val Loss: 1.652543\n",
      "Epoch: 15/20... Step: 500... Loss: 0.145553... Val Loss: 1.675716\n",
      "Epoch: 15/20... Step: 600... Loss: 0.136161... Val Loss: 1.636658\n",
      "Epoch: 15/20... Step: 700... Loss: 0.166564... Val Loss: 1.617809\n",
      "Epoch: 15/20... Step: 800... Loss: 0.114540... Val Loss: 1.604769\n",
      "Epoch: 15/20... Step: 900... Loss: 0.138641... Val Loss: 1.601249\n",
      "Epoch: 15/20... Step: 1000... Loss: 0.171039... Val Loss: 1.584821\n",
      "Epoch: 15/20... Step: 1100... Loss: 0.105163... Val Loss: 1.552771\n",
      "Epoch: 15/20... Step: 1200... Loss: 0.188806... Val Loss: 1.549985\n",
      "Epoch: 15/20... Step: 1300... Loss: 0.133574... Val Loss: 1.528954\n",
      "Epoch: 15/20... Step: 1400... Loss: 0.184019... Val Loss: 1.548418\n",
      "Starting epoch 16\n",
      "Epoch: 16/20... Step: 100... Loss: 0.093002... Val Loss: 1.646352\n",
      "Epoch: 16/20... Step: 200... Loss: 0.099784... Val Loss: 1.683976\n",
      "Epoch: 16/20... Step: 300... Loss: 0.140087... Val Loss: 1.722108\n",
      "Epoch: 16/20... Step: 400... Loss: 0.106605... Val Loss: 1.716979\n",
      "Epoch: 16/20... Step: 500... Loss: 0.102972... Val Loss: 1.704848\n",
      "Epoch: 16/20... Step: 600... Loss: 0.141086... Val Loss: 1.676787\n",
      "Epoch: 16/20... Step: 700... Loss: 0.170949... Val Loss: 1.661091\n",
      "Epoch: 16/20... Step: 800... Loss: 0.139384... Val Loss: 1.632739\n",
      "Epoch: 16/20... Step: 900... Loss: 0.131306... Val Loss: 1.648856\n",
      "Epoch: 16/20... Step: 1000... Loss: 0.152184... Val Loss: 1.616949\n",
      "Epoch: 16/20... Step: 1100... Loss: 0.138364... Val Loss: 1.588987\n",
      "Epoch: 16/20... Step: 1200... Loss: 0.126850... Val Loss: 1.576563\n",
      "Epoch: 16/20... Step: 1300... Loss: 0.178919... Val Loss: 1.591520\n",
      "Epoch: 16/20... Step: 1400... Loss: 0.175008... Val Loss: 1.547924\n",
      "Starting epoch 17\n",
      "Epoch: 17/20... Step: 100... Loss: 0.075328... Val Loss: 1.660698\n",
      "Epoch: 17/20... Step: 200... Loss: 0.097504... Val Loss: 1.704364\n",
      "Epoch: 17/20... Step: 300... Loss: 0.090829... Val Loss: 1.718193\n",
      "Epoch: 17/20... Step: 400... Loss: 0.099977... Val Loss: 1.676205\n",
      "Epoch: 17/20... Step: 500... Loss: 0.065931... Val Loss: 1.677420\n",
      "Epoch: 17/20... Step: 600... Loss: 0.107155... Val Loss: 1.661438\n",
      "Epoch: 17/20... Step: 700... Loss: 0.193387... Val Loss: 1.654940\n",
      "Epoch: 17/20... Step: 800... Loss: 0.072949... Val Loss: 1.664837\n",
      "Epoch: 17/20... Step: 900... Loss: 0.153151... Val Loss: 1.649342\n",
      "Epoch: 17/20... Step: 1000... Loss: 0.137155... Val Loss: 1.641517\n",
      "Epoch: 17/20... Step: 1100... Loss: 0.150150... Val Loss: 1.596132\n",
      "Epoch: 17/20... Step: 1200... Loss: 0.128141... Val Loss: 1.586148\n",
      "Epoch: 17/20... Step: 1300... Loss: 0.139780... Val Loss: 1.551338\n",
      "Epoch: 17/20... Step: 1400... Loss: 0.135883... Val Loss: 1.572471\n",
      "Starting epoch 18\n",
      "Epoch: 18/20... Step: 100... Loss: 0.079993... Val Loss: 1.681920\n",
      "Epoch: 18/20... Step: 200... Loss: 0.126698... Val Loss: 1.730324\n",
      "Epoch: 18/20... Step: 300... Loss: 0.083883... Val Loss: 1.741226\n",
      "Epoch: 18/20... Step: 400... Loss: 0.101134... Val Loss: 1.706471\n",
      "Epoch: 18/20... Step: 500... Loss: 0.094747... Val Loss: 1.706901\n",
      "Epoch: 18/20... Step: 600... Loss: 0.145098... Val Loss: 1.715834\n",
      "Epoch: 18/20... Step: 700... Loss: 0.120463... Val Loss: 1.683544\n",
      "Epoch: 18/20... Step: 800... Loss: 0.118035... Val Loss: 1.716615\n",
      "Epoch: 18/20... Step: 900... Loss: 0.103270... Val Loss: 1.656630\n",
      "Epoch: 18/20... Step: 1000... Loss: 0.142686... Val Loss: 1.635318\n",
      "Epoch: 18/20... Step: 1100... Loss: 0.131033... Val Loss: 1.612962\n",
      "Epoch: 18/20... Step: 1200... Loss: 0.171770... Val Loss: 1.625938\n",
      "Epoch: 18/20... Step: 1300... Loss: 0.177724... Val Loss: 1.604158\n",
      "Epoch: 18/20... Step: 1400... Loss: 0.167042... Val Loss: 1.605293\n",
      "Starting epoch 19\n",
      "Epoch: 19/20... Step: 100... Loss: 0.091597... Val Loss: 1.725469\n",
      "Epoch: 19/20... Step: 200... Loss: 0.096791... Val Loss: 1.733159\n",
      "Epoch: 19/20... Step: 300... Loss: 0.098846... Val Loss: 1.738132\n",
      "Epoch: 19/20... Step: 400... Loss: 0.146680... Val Loss: 1.734137\n",
      "Epoch: 19/20... Step: 500... Loss: 0.137731... Val Loss: 1.708113\n",
      "Epoch: 19/20... Step: 600... Loss: 0.128221... Val Loss: 1.704671\n",
      "Epoch: 19/20... Step: 700... Loss: 0.114918... Val Loss: 1.701916\n",
      "Epoch: 19/20... Step: 800... Loss: 0.116476... Val Loss: 1.704609\n",
      "Epoch: 19/20... Step: 900... Loss: 0.123209... Val Loss: 1.674626\n",
      "Epoch: 19/20... Step: 1000... Loss: 0.165032... Val Loss: 1.653608\n",
      "Epoch: 19/20... Step: 1100... Loss: 0.127381... Val Loss: 1.637279\n",
      "Epoch: 19/20... Step: 1200... Loss: 0.122246... Val Loss: 1.631201\n",
      "Epoch: 19/20... Step: 1300... Loss: 0.150608... Val Loss: 1.589332\n",
      "Epoch: 19/20... Step: 1400... Loss: 0.117120... Val Loss: 1.606371\n",
      "Starting epoch 20\n",
      "Epoch: 20/20... Step: 100... Loss: 0.098498... Val Loss: 1.732947\n",
      "Epoch: 20/20... Step: 200... Loss: 0.092325... Val Loss: 1.748254\n",
      "Epoch: 20/20... Step: 300... Loss: 0.087827... Val Loss: 1.744944\n",
      "Epoch: 20/20... Step: 400... Loss: 0.107798... Val Loss: 1.746115\n",
      "Epoch: 20/20... Step: 500... Loss: 0.112631... Val Loss: 1.739260\n",
      "Epoch: 20/20... Step: 600... Loss: 0.076099... Val Loss: 1.716917\n",
      "Epoch: 20/20... Step: 700... Loss: 0.140956... Val Loss: 1.709179\n",
      "Epoch: 20/20... Step: 800... Loss: 0.128860... Val Loss: 1.695253\n",
      "Epoch: 20/20... Step: 900... Loss: 0.153576... Val Loss: 1.699902\n",
      "Epoch: 20/20... Step: 1000... Loss: 0.154743... Val Loss: 1.682654\n",
      "Epoch: 20/20... Step: 1100... Loss: 0.125089... Val Loss: 1.651255\n",
      "Epoch: 20/20... Step: 1200... Loss: 0.127747... Val Loss: 1.658236\n",
      "Epoch: 20/20... Step: 1300... Loss: 0.112419... Val Loss: 1.632102\n",
      "Epoch: 20/20... Step: 1400... Loss: 0.102791... Val Loss: 1.615302\n"
     ],
     "output_type": "stream"
    }
   ],
   "source": [
    "\"\"\"\n",
    "Train your model with dropout. Make sure to clip your gradients.\n",
    "Print the training loss, validation loss, and validation accuracy for every 100 steps.\n",
    "\"\"\"\n",
    "\n",
    "epochs = 20\n",
    "batch_size = 512\n",
    "learning_rate = 0.001\n",
    "clip=20\n",
    "\n",
    "print_every = 100\n",
    "criterion = nn.NLLLoss()\n",
    "optimizer = optim.Adam(model.parameters(), lr=learning_rate)\n",
    "model.train()\n",
    "\n",
    "for epoch in range(epochs):\n",
    "    print('Starting epoch {}'.format(epoch + 1))\n",
    "    \n",
    "    steps = 0\n",
    "    for text_batch, labels in dataloader(\n",
    "            train_features, train_labels, batch_size=batch_size, sequence_length=20, shuffle=True):\n",
    "        steps += 1\n",
    "        \n",
    "        hidden = model.init_hidden(labels.shape[0])\n",
    "        \n",
    "        # Set Device\n",
    "        text_batch, labels = text_batch.to(device), labels.to(device)\n",
    "        for each in hidden:\n",
    "            each.to(device)\n",
    "        \n",
    "        # TODO Implement: Train Model\n",
    "        model.zero_grad()\n",
    "        \n",
    "        output, hidden = model(text_batch, hidden)\n",
    "        \n",
    "        loss = criterion(output.squeeze(), labels)\n",
    "        loss.backward()\n",
    "        \n",
    "        nn.utils.clip_grad_norm_(model.parameters(), clip)\n",
    "        optimizer.step()\n",
    "        \n",
    "        if steps % print_every == 0:\n",
    "            model.eval()\n",
    "            \n",
    "            # TODO Implement: Print metrics\n",
    "            \n",
    "            v_losses = []\n",
    "            \n",
    "            for v_text_batch, v_labels in dataloader(valid_features, valid_labels, batch_size=batch_size):\n",
    "                \n",
    "                v_text_batch, v_labels = v_text_batch.to(device), v_labels.to(device)\n",
    "                v_hidden = model.init_hidden(v_labels.shape[0])\n",
    "                for each in v_hidden:\n",
    "                    each.to(device)\n",
    "                    \n",
    "                v_output, v_hidden = model(v_text_batch, v_hidden)\n",
    "                v_loss = criterion(v_output.squeeze(), v_labels)\n",
    "                \n",
    "                v_losses.append(v_loss.item())\n",
    "            \n",
    "            model.train()\n",
    "            print(\"Epoch: {}/{}...\".format(epoch+1, epochs),\n",
    "                  \"Step: {}...\".format(steps),\n",
    "                  \"Loss: {:.6f}...\".format(loss.item()),\n",
    "                  \"Val Loss: {:.6f}\".format(np.mean(v_losses)))"
   ],
   "metadata": {
    "collapsed": false,
    "pycharm": {
     "name": "#%%\n",
     "is_executing": false
    }
   }
  },
  {
   "cell_type": "markdown",
   "metadata": {},
   "source": [
    "## Making Predictions\n",
    "### Prediction \n",
    "Okay, now that you have a trained model, try it on some new twits and see if it works appropriately. Remember that for any new text, you'll need to preprocess it first before passing it to the network. Implement the `predict` function to generate the prediction vector from a message."
   ]
  },
  {
   "cell_type": "code",
   "execution_count": 21,
   "metadata": {
    "pycharm": {
     "is_executing": false
    }
   },
   "outputs": [],
   "source": [
    "def predict(text, model, vocab):\n",
    "    \"\"\" \n",
    "    Make a prediction on a single sentence.\n",
    "\n",
    "    Parameters\n",
    "    ----------\n",
    "        text : The string to make a prediction on.\n",
    "        model : The model to use for making the prediction.\n",
    "        vocab : Dictionary for word to word ids. The key is the word and the value is the word id.\n",
    "\n",
    "    Returns\n",
    "    -------\n",
    "        pred : Prediction vector\n",
    "    \"\"\"    \n",
    "    \n",
    "    # TODO Implement\n",
    "    \n",
    "    tokens = preprocess(text)\n",
    "    \n",
    "    # Filter non-vocab words\n",
    "    tokens = [token for token in tokens if token in vocab]\n",
    "    # Convert words to ids\n",
    "    tokens = [vocab[token] for token in tokens]\n",
    "        \n",
    "    # Adding a batch dimension\n",
    "    text_input = torch.from_numpy(np.asarray(torch.FloatTensor(tokens).view(-1,1)))\n",
    "    # Get the NN output\n",
    "    hidden = model.init_hidden(1)\n",
    "    logps, _ = model.forward(text_input, hidden)\n",
    "    # Take the exponent of the NN output to get a range of 0 to 1 for each label.\n",
    "    pred = torch.exp(logps)\n",
    "    \n",
    "    return pred"
   ]
  },
  {
   "cell_type": "code",
   "execution_count": 22,
   "metadata": {
    "pycharm": {
     "is_executing": false
    }
   },
   "outputs": [
    {
     "data": {
      "text/plain": "tensor([[8.7480e-10, 1.1551e-05, 2.0532e-05, 9.9958e-01, 3.8847e-04]],\n       grad_fn=<ExpBackward>)"
     },
     "metadata": {},
     "output_type": "execute_result",
     "execution_count": 22
    }
   ],
   "source": [
    "text = \"Google is working on self driving cars, I'm bullish on $goog\"\n",
    "model.eval()\n",
    "model.to(\"cpu\")\n",
    "predict(text, model, vocab)"
   ]
  },
  {
   "cell_type": "markdown",
   "metadata": {},
   "source": [
    "### Questions: What is the prediction of the model? What is the uncertainty of the prediction?\n",
    "** TODO: Answer Question**\n"
   ]
  },
  {
   "cell_type": "markdown",
   "metadata": {},
   "source": [
    "Now we have a trained model and we can make predictions. We can use this model to track the sentiments of various stocks by predicting the sentiments of twits as they are coming in. Now we have a stream of twits. For each of those twits, pull out the stocks mentioned in them and keep track of the sentiments. Remember that in the twits, ticker symbols are encoded with a dollar sign as the first character, all caps, and 2-4 letters, like $AAPL. Ideally, you'd want to track the sentiments of the stocks in your universe and use this as a signal in your larger model(s).\n",
    "\n",
    "## Testing\n",
    "### Load the Data "
   ]
  },
  {
   "cell_type": "code",
   "execution_count": 23,
   "metadata": {
    "pycharm": {
     "is_executing": false
    }
   },
   "outputs": [],
   "source": [
    "with open(os.path.join('dir', 'test_twits.json'), 'r') as f:\n",
    "    test_data = json.load(f)"
   ]
  },
  {
   "cell_type": "markdown",
   "metadata": {},
   "source": [
    "### Twit Stream"
   ]
  },
  {
   "cell_type": "code",
   "execution_count": 24,
   "metadata": {
    "pycharm": {
     "is_executing": false
    }
   },
   "outputs": [
    {
     "data": {
      "text/plain": "{'message_body': '$JWN has moved -1.69% on 10-31. Check out the movement and peers at  https://dividendbot.com?s=JWN',\n 'timestamp': '2018-11-01T00:00:05Z'}"
     },
     "metadata": {},
     "output_type": "execute_result",
     "execution_count": 24
    }
   ],
   "source": [
    "def twit_stream():\n",
    "    for twit in test_data['data']:\n",
    "        yield twit\n",
    "\n",
    "next(twit_stream())"
   ]
  },
  {
   "cell_type": "markdown",
   "metadata": {},
   "source": [
    "Using the `prediction` function, let's apply it to a stream of twits."
   ]
  },
  {
   "cell_type": "code",
   "execution_count": 25,
   "metadata": {
    "pycharm": {
     "is_executing": false
    }
   },
   "outputs": [],
   "source": [
    "def score_twits(stream, model, vocab, universe):\n",
    "    \"\"\" \n",
    "    Given a stream of twits and a universe of tickers, return sentiment scores for tickers in the universe.\n",
    "    \"\"\"\n",
    "    for twit in stream:\n",
    "\n",
    "        # Get the message text\n",
    "        text = twit['message_body']\n",
    "        symbols = re.findall('\\$[A-Z]{2,4}', text)\n",
    "        score = predict(text, model, vocab)\n",
    "\n",
    "        for symbol in symbols:\n",
    "            if symbol in universe:\n",
    "                yield {'symbol': symbol, 'score': score, 'timestamp': twit['timestamp']}"
   ]
  },
  {
   "cell_type": "code",
   "execution_count": 33,
   "metadata": {
    "pycharm": {
     "is_executing": false
    }
   },
   "outputs": [
    {
     "data": {
      "text/plain": "{'symbol': '$AAPL',\n 'score': tensor([[0.0020, 0.0626, 0.0226, 0.7951, 0.1178]], grad_fn=<ExpBackward>),\n 'timestamp': '2018-11-01T00:00:18Z'}"
     },
     "metadata": {},
     "output_type": "execute_result",
     "execution_count": 33
    }
   ],
   "source": [
    "universe = {'$BBRY', '$AAPL', '$AMZN', '$BABA', '$YHOO', '$LQMT', '$FB', '$GOOG', '$BBBY', '$JNUG', '$SBUX', '$MU'}\n",
    "score_stream = score_twits(twit_stream(), model, vocab, universe)\n",
    "\n",
    "next(score_stream)"
   ]
  },
  {
   "cell_type": "markdown",
   "metadata": {},
   "source": [
    "That's it. You have successfully built a model for sentiment analysis! "
   ]
  },
  {
   "cell_type": "markdown",
   "metadata": {},
   "source": [
    "## Submission\n",
    "Now that you're done with the project, it's time to submit it. Click the submit button in the bottom right. One of our reviewers will give you feedback on your project with a pass or not passed grade. You can continue to the next section while you wait for feedback."
   ]
  }
 ],
 "metadata": {
  "kernelspec": {
   "display_name": "Python 3",
   "language": "python",
   "name": "python3"
  },
  "language_info": {
   "codemirror_mode": {
    "name": "ipython",
    "version": 3
   },
   "file_extension": ".py",
   "mimetype": "text/x-python",
   "name": "python",
   "nbconvert_exporter": "python",
   "pygments_lexer": "ipython3",
   "version": "3.6.3"
  },
  "pycharm": {
   "stem_cell": {
    "cell_type": "raw",
    "source": [],
    "metadata": {
     "collapsed": false
    }
   }
  }
 },
 "nbformat": 4,
 "nbformat_minor": 2
}